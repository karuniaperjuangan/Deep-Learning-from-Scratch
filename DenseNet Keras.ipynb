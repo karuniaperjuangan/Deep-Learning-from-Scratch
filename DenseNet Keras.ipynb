{
 "cells": [
  {
   "cell_type": "code",
   "execution_count": 1,
   "metadata": {},
   "outputs": [],
   "source": [
    "import tensorflow as tf\n",
    "import tensorflow.keras.layers as layers\n",
    "import tensorflow.keras.models as models"
   ]
  },
  {
   "cell_type": "markdown",
   "metadata": {},
   "source": [
    "Referensi:\n",
    "- https://arxiv.org/pdf/1608.06993.pdf\n",
    "- https://towardsdatascience.com/creating-densenet-121-with-tensorflow-edbc08a956d8"
   ]
  },
  {
   "cell_type": "code",
   "execution_count": 2,
   "metadata": {},
   "outputs": [],
   "source": [
    "def bn_relu_conv(x, filters, kernel_size=1, strides=1, padding='same'):\n",
    "    x = layers.BatchNormalization()(x)\n",
    "    x = layers.ReLU()(x)\n",
    "    x = layers.Conv2D(filters, kernel_size, strides=strides, padding=padding)(x)\n",
    "    return x"
   ]
  },
  {
   "cell_type": "markdown",
   "metadata": {},
   "source": [
    "![Tabel DenseNet](https://amaarora.github.io/images/densenet_archs.png)"
   ]
  },
  {
   "cell_type": "code",
   "execution_count": 3,
   "metadata": {},
   "outputs": [],
   "source": [
    "# DenseNet Layer Template\n",
    "\n",
    "\n",
    "def DenseNet(num_classes: int, nb_layers:list[int], growth_rate:int=32, ) -> tf.Tensor:\n",
    "    input = layers.Input((224, 224, 3))\n",
    "    ConvolutionLayer = layers.Conv2D(64, (3, 3), padding='same')\n",
    "    PoolingLayer = layers.MaxPooling2D((3,3), strides=2)\n",
    "    def TransitionLayer(x: tf.Tensor) -> tf.Tensor:\n",
    "        x = bn_relu_conv(x, filters=64, kernel_size=(1,1))\n",
    "        x = layers.AveragePooling2D((2,2), strides=2)(x)\n",
    "        return x\n",
    "\n",
    "    def DenseBlock(x: tf.Tensor, nb_layers: int) -> tf.Tensor:\n",
    "        for i in range(nb_layers):\n",
    "            y = bn_relu_conv(x, filters=growth_rate*4, kernel_size=1)\n",
    "            y = bn_relu_conv(y, filters=growth_rate, kernel_size=3)\n",
    "            x = layers.concatenate([x, y])\n",
    "        return x\n",
    "\n",
    "    def ClassificationLayer(x: tf.Tensor, num_classes) -> tf.Tensor:\n",
    "        x = layers.GlobalAveragePooling2D()(x)\n",
    "        x = layers.Dense(num_classes, activation=('softmax'))(x)\n",
    "        return x\n",
    "    \n",
    "    x = ConvolutionLayer(input)\n",
    "    x = PoolingLayer(x)\n",
    "    for i in range(len(nb_layers)):\n",
    "        d = DenseBlock(x, nb_layers[i])\n",
    "        x = TransitionLayer(d)\n",
    "    output = ClassificationLayer(d, num_classes)\n",
    "\n",
    "    model = models.Model(input, output)\n",
    "    return model"
   ]
  },
  {
   "cell_type": "code",
   "execution_count": 4,
   "metadata": {},
   "outputs": [],
   "source": [
    "DenseNet121 = DenseNet(2, [6,12,24,16])\n",
    "# DenseNet169 = DenseNet(2, [6,12,32,32])\n",
    "# DenseNet201 = DenseNet(2, [6,12,48,32])\n",
    "# DenseNet264 = DenseNet(2, [6,12,64,64])\n",
    "DenseNet121.compile(optimizer='adam', loss='sparse_categorical_crossentropy', metrics=['accuracy'])"
   ]
  },
  {
   "cell_type": "code",
   "execution_count": null,
   "metadata": {},
   "outputs": [],
   "source": []
  },
  {
   "cell_type": "markdown",
   "metadata": {},
   "source": [
    "# Dataset"
   ]
  },
  {
   "cell_type": "code",
   "execution_count": 5,
   "metadata": {},
   "outputs": [
    {
     "name": "stdout",
     "output_type": "stream",
     "text": [
      "Found 9506 files belonging to 2 classes.\n",
      "Using 7605 files for training.\n",
      "Found 9506 files belonging to 2 classes.\n",
      "Using 1901 files for validation.\n"
     ]
    }
   ],
   "source": [
    "import numpy.random as rnd\n",
    "seed = rnd.randint(1, 10000)\n",
    "print(\"Seed is\",seed)\n",
    "train_ds = tf.keras.preprocessing.image_dataset_from_directory('D:\\AI-Project\\Pancarona PPSMB UGM - Gender', validation_split=0.2, subset='training', seed=seed, image_size=(224,224), batch_size=16, label_mode='int')\n",
    "val_ds = tf.keras.preprocessing.image_dataset_from_directory('D:\\AI-Project\\Pancarona PPSMB UGM - Gender', validation_split=0.2, subset='validation', seed=seed, image_size=(224,224), batch_size=16, label_mode='int')"
   ]
  },
  {
   "cell_type": "markdown",
   "metadata": {},
   "source": [
    "# Training"
   ]
  },
  {
   "cell_type": "code",
   "execution_count": 6,
   "metadata": {
    "scrolled": true
   },
   "outputs": [
    {
     "name": "stdout",
     "output_type": "stream",
     "text": [
      "Epoch 1/10\n",
      " 18/476 [>.............................] - ETA: 3:07 - loss: 1.9582 - accuracy: 0.6319"
     ]
    }
   ],
   "source": [
    "from tensorflow.keras.callbacks import ModelCheckpoint, TensorBoard\n",
    "import datetime\n",
    "import os\n",
    "\n",
    "\n",
    "\n",
    "timestr = datetime.datetime.now().strftime(\"%Y%m%d-%H%M%S\")\n",
    "name = 'densenet121-'+timestr\n",
    "\n",
    "checkpoint_path = \"checkpoints/\"+name+\"/cp-{epoch:04d}.ckpt\"\n",
    "checkpoint_dir = os.path.dirname(checkpoint_path)\n",
    "os.system('mkdir {}'.format(checkpoint_dir))\n",
    "\n",
    "# save model after each epoch\n",
    "cp_callback = ModelCheckpoint(\n",
    "    filepath=checkpoint_path,\n",
    "    verbose=1\n",
    ")\n",
    "\"\"\"\n",
    "tensorboard_callback = TensorBoard(\n",
    "    log_dir='tensorboard_logs/'+name,\n",
    "    histogram_freq=1\n",
    ")\n",
    "\"\"\"\n",
    "DenseNet121.fit(\n",
    "    train_ds,\n",
    "    epochs=10,\n",
    "    verbose=1,\n",
    "    validation_data= val_ds,\n",
    "    batch_size=16,\n",
    "    callbacks=[cp_callback]\n",
    "    #callbacks=[cp_callback, tensorboard_callback]\n",
    ")"
   ]
  },
  {
   "cell_type": "code",
   "execution_count": null,
   "metadata": {},
   "outputs": [],
   "source": [
    "model.save('gender-classifier-ugm')"
   ]
  },
  {
   "cell_type": "code",
   "execution_count": null,
   "metadata": {},
   "outputs": [],
   "source": [
    "tf.math.confusion_matrix(\n",
    "    labels,\n",
    "    predictions,\n",
    "    num_classes=None,\n",
    "    weights=None,\n",
    "    dtype=tf.dtypes.int32,\n",
    "    name=None\n",
    ")\n"
   ]
  }
 ],
 "metadata": {
  "interpreter": {
   "hash": "a8f61be024eba58adef938c9aa1e29e02cb3dece83a5348b1a2dafd16a070453"
  },
  "kernelspec": {
   "display_name": "Python 3 (ipykernel)",
   "language": "python",
   "name": "python3"
  },
  "language_info": {
   "codemirror_mode": {
    "name": "ipython",
    "version": 3
   },
   "file_extension": ".py",
   "mimetype": "text/x-python",
   "name": "python",
   "nbconvert_exporter": "python",
   "pygments_lexer": "ipython3",
   "version": "3.9.7"
  }
 },
 "nbformat": 4,
 "nbformat_minor": 2
}
